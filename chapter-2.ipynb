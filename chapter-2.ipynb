{
 "cells": [
  {
   "cell_type": "markdown",
   "metadata": {},
   "source": [
    "# Sơ lược về Mạng (Network - Basic) \n",
    "\n",
    "Môi trường `Mạng` luôn và sẽ là đấu trường với một `hacker`.  Kẻ tấn công có thể làm hầu hết mọi thứ với một truy cập mạng đơn giản, chẳng hạn như quét tìm máy chủ, đưa gói tin, đánh hơi dữ liệu và khai thác máy chủ từ xa.  Nhưng nếu bạn đã tìm cách đi sâu vào, bạn có thể gặp phải một câu hỏi: bạn không có công cụ nào để thực hiện các cuộc tấn công mạng.  Không có netcat.  Không có Wireshark.  Không có trình biên dịch và không có cách nào để cài đặt một trình biên dịch.  Tuy nhiên, bạn có thể ngạc nhiên khi thấy rằng trong nhiều trường hợp, bạn sẽ có một bản cài đặt Python.  Vì vậy, đó là nơi chúng ta sẽ bắt đầu.\n",
    "\n",
    "Chương này sẽ cung cấp cho bạn một số kiến thức cơ bản về mạng Python bằng cách sử dụng mô-đun `socket`.  Trong quá trình này, chúng tôi sẽ xây dựng máy khách, máy chủ và proxy TCP.  Sau đó, chúng tôi sẽ biến chúng thành netcat của riêng mình, hoàn chỉnh với một trình bao lệnh (shell).  Chương này là nền tảng cho các chương tiếp theo, trong đó chúng tôi sẽ xây dựng một công cụ khám phá máy chủ lưu trữ, triển khai trình dò tìm đa nền tảng và tạo một trojan có thể điều khiển từ xa.\n",
    "\n",
    "## Mạng trong Python\n",
    "Các lập trình viên thường có một số công cụ của bên thứ ba để tạo máy chủ và máy khách bằng Python, nhưng mô-đun cốt lõi cho tất cả các công cụ đó là `socket`.  Mô-đun này cho thấy tất cả các phần cần thiết để nhanh chóng viết các máy khách và máy chủ Giao thức Điều khiển Truyền (TCP : Transmission Control Protocol) và Giao thức Dữ liệu Người dùng (UDP: User Datagram Protocol), v.v.  Với mục đích truy cập hoặc duy trì quyền truy cập vào các máy mục tiêu, mô-đun này là tất cả những gì bạn thực sự cần.  Hãy bắt đầu bằng cách tạo một số máy khách và máy chủ đơn giản — hai tập lệnh mạng nhanh phổ biến nhất mà bạn sẽ viết. \n",
    "\n"
   ]
  },
  {
   "cell_type": "markdown",
   "metadata": {},
   "source": [
    "## The TCP Client\n",
    "Rất nhiều lần trong quá trình kiểm tra thâm nhập, chúng tôi (các tác giả) đã cần phải sử dụng máy khách TCP để kiểm tra các dịch vụ, gửi dữ liệu rác, làm mờ hoặc thực hiện bất kỳ tác vụ nào khác. Nếu bạn đang làm việc trong giới hạn của môi trường doanh nghiệp, bạn sẽ không có điều kiện sử dụng các công cụ mạng hoặc trình biên dịch, và đôi khi bạn thậm chí sẽ thiếu những điều cơ bản tuyệt đối, như copy/paste hoặc kết nối với `Internet` . Đây là nơi có thể nhanh chóng tạo một máy khách TCP cực kỳ tiện dụng. Nhưng đừng lo lắng — hãy bắt đầu code."
   ]
  },
  {
   "cell_type": "code",
   "execution_count": 2,
   "metadata": {},
   "outputs": [
    {
     "name": "stdout",
     "output_type": "stream",
     "text": [
      "HTTP/1.1 301 Moved Permanently\r\n",
      "Location: http://www.google.com/\r\n",
      "Content-Type: text/html; charset=UTF-8\r\n",
      "Date: Thu, 18 Mar 2021 17:41:26 GMT\r\n",
      "Expires: Sat, 17 Apr 2021 17:41:26 GMT\r\n",
      "Cache-Control: public, max-age=2592000\r\n",
      "Server: gws\r\n",
      "Content-Length: 219\r\n",
      "X-XSS-Protection: 0\r\n",
      "X-Frame-Options: SAMEORIGIN\r\n",
      "\r\n",
      "<HTML><HEAD><meta http-equiv=\"content-type\" content=\"text/html;charset=utf-8\">\n",
      "<TITLE>301 Moved</TITLE></HEAD><BODY>\n",
      "<H1>301 Moved</H1>\n",
      "The document has moved\n",
      "<A HREF=\"http://www.google.com/\">here</A>.\r\n",
      "</BODY></HTML>\r\n",
      "\n"
     ]
    }
   ],
   "source": [
    "# Đây là một ứng dụng TCP đơn giản : thực hiện request tới `www.google.com` và in ra dữ liệu nhận được.\n",
    "import socket\n",
    "\n",
    "target_host = \"www.google.com\"\n",
    "target_port = 80\n",
    "\n",
    "# tạo một đối tượng socket\n",
    "client = socket.socket(socket.AF_INET, socket.SOCK_STREAM)\n",
    "# kết nối tới máy khách\n",
    "client.connect((target_host, target_port))\n",
    "# thực hiện gửi dữ liệu\n",
    "client.send(b\"GET / HTTP/1.1\\r\\nHost: google.com\\r\\n\\r\\n\")\n",
    "# nhận về dữ liệu \n",
    "response = client.recv(4096)\n",
    "# in ra dữ liệu nhận được \n",
    "print(response.decode())\n",
    "# đóng cổng kết nối.\n",
    "client.close()\n"
   ]
  },
  {
   "cell_type": "markdown",
   "metadata": {},
   "source": [
    "Tìm hiểu tài liệu về `socket` tại [Documents](https://docs.python.org/3/library/socket.html)"
   ]
  },
  {
   "cell_type": "markdown",
   "metadata": {},
   "source": [
    "## The TCP Client - The Transmission Control Protocol Client\n",
    "ss"
   ]
  },
  {
   "cell_type": "code",
   "execution_count": null,
   "metadata": {},
   "outputs": [],
   "source": []
  }
 ],
 "metadata": {
  "kernelspec": {
   "display_name": "Python 3",
   "language": "python",
   "name": "python3"
  },
  "language_info": {
   "codemirror_mode": {
    "name": "ipython",
    "version": 3
   },
   "file_extension": ".py",
   "mimetype": "text/x-python",
   "name": "python",
   "nbconvert_exporter": "python",
   "pygments_lexer": "ipython3",
   "version": "3.8.5"
  },
  "metadata": {
   "interpreter": {
    "hash": "916dbcbb3f70747c44a77c7bcd40155683ae19c65e1c03b4aa3499c5328201f1"
   }
  }
 },
 "nbformat": 4,
 "nbformat_minor": 2
}
