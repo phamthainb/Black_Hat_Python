{
 "cells": [
  {
   "cell_type": "code",
   "execution_count": null,
   "id": "complete-cabin",
   "metadata": {},
   "outputs": [],
   "source": [
    "# Cấu hình môi trường, máy ảo \n",
    "\n",
    "- Môi trường yêu cầu\n",
    "\t+ Python3 (Yêu cầu Python 3.6 hoặc phiên bản cao hơn)\n",
    "\t+ VM (VMware Player, VirtualBox, hoặc  Hyper-V) có cài `Kali linux`\n",
    "\t+ IDE : pycharm, vscode, sublime-text, vim, ...\n",
    "\n",
    "\n",
    "## Hãy chắc chắn là bạn đã cài đặt đầy đủ mọi yêu cầu trên."
   ]
  }
 ],
 "metadata": {
  "kernelspec": {
   "display_name": "Python 3",
   "language": "python",
   "name": "python3"
  },
  "language_info": {
   "codemirror_mode": {
    "name": "ipython",
    "version": 3
   },
   "file_extension": ".py",
   "mimetype": "text/x-python",
   "name": "python",
   "nbconvert_exporter": "python",
   "pygments_lexer": "ipython3",
   "version": "3.8.5"
  }
 },
 "nbformat": 4,
 "nbformat_minor": 5
}
